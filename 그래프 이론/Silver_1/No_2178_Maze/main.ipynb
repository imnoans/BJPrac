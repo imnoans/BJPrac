{
 "cells": [
  {
   "cell_type": "code",
   "execution_count": 4,
   "metadata": {},
   "outputs": [
    {
     "name": "stdout",
     "output_type": "stream",
     "text": [
      "38\n"
     ]
    }
   ],
   "source": [
    "from collections import deque\n",
    "\n",
    "dx = [-1, 1, 0, 0]\n",
    "dy = [0, 0, -1, 1]\n",
    "\n",
    "result = 0\n",
    "n, m = map(int, input().split())\n",
    "mat = []\n",
    "queue = deque()\n",
    "\n",
    "\n",
    "class loc :\n",
    "    x = 0\n",
    "    y = 0\n",
    "    count = 0\n",
    "    def __init__(self, x, y, count):\n",
    "        self.x = x\n",
    "        self.y = y\n",
    "        self.count = count\n",
    "\n",
    "for i in range(n) :\n",
    "    mat.append(list(map(int, input())))\n",
    "\n",
    "mat[0][0] = 0\n",
    "start = loc(0, 0, 1)\n",
    "\n",
    "queue.append(start)\n",
    "while queue :\n",
    "    v = queue.popleft()\n",
    "    if(v.x == n - 1 and v.y == m - 1) :\n",
    "        result = v.count\n",
    "        break\n",
    "    for i in range(4) :\n",
    "        mx = v.x + dx[i]\n",
    "        my = v.y + dy[i]\n",
    "        \n",
    "        if mx >= n or mx < 0 or my >= m or my < 0 :\n",
    "            continue\n",
    "        if mat[mx][my] == 1 :\n",
    "            #print(mx, my, v.count + 1)\n",
    "            mat[mx][my] = 0\n",
    "            queue.append(loc(mx, my, v.count + 1))\n",
    "\n",
    "print(result)"
   ]
  },
  {
   "cell_type": "code",
   "execution_count": 5,
   "metadata": {},
   "outputs": [
    {
     "name": "stdout",
     "output_type": "stream",
     "text": [
      "38\n"
     ]
    }
   ],
   "source": [
    "from collections import deque\n",
    "\n",
    "dx = [0, 0, -1, 1]\n",
    "dy = [-1, 1, 0, 0]\n",
    "\n",
    "result = 0\n",
    "n, m = map(int, input().split())\n",
    "mat = []\n",
    "visited = []\n",
    "queue = deque()\n",
    "\n",
    "for i in range(n) :\n",
    "    mat.append(list(map(int, input())))\n",
    "\n",
    "def bfs(x, y) :\n",
    "    queue = deque()\n",
    "    queue.append((x, y))\n",
    "    while queue:\n",
    "        x, y = queue.popleft()\n",
    "        for i in range(4) :\n",
    "            mx = x + dx[i]\n",
    "            my = y + dy[i]\n",
    "            \n",
    "            if mx >= n or mx < 0 or my >= m or my < 0 :\n",
    "                continue\n",
    "            if mat[mx][my] == 1 :\n",
    "                mat[mx][my] = mat[x][y] + 1\n",
    "                queue.append((mx, my))\n",
    "    return mat[n-1][m-1]\n",
    "\n",
    "print(bfs(0, 0))"
   ]
  }
 ],
 "metadata": {
  "kernelspec": {
   "display_name": "base",
   "language": "python",
   "name": "python3"
  },
  "language_info": {
   "codemirror_mode": {
    "name": "ipython",
    "version": 3
   },
   "file_extension": ".py",
   "mimetype": "text/x-python",
   "name": "python",
   "nbconvert_exporter": "python",
   "pygments_lexer": "ipython3",
   "version": "3.9.13"
  },
  "orig_nbformat": 4
 },
 "nbformat": 4,
 "nbformat_minor": 2
}
