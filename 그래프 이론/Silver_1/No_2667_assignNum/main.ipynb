{
 "cells": [
  {
   "cell_type": "code",
   "execution_count": 5,
   "metadata": {},
   "outputs": [
    {
     "name": "stdout",
     "output_type": "stream",
     "text": [
      "3\n",
      "7\n",
      "8\n",
      "9\n"
     ]
    }
   ],
   "source": [
    "from collections import deque\n",
    "\n",
    "dx = [-1, 1, 0, 0]\n",
    "dy = [0, 0, -1, 1]\n",
    "\n",
    "n = int(input())\n",
    "\n",
    "nums = []\n",
    "number = 0\n",
    "counts = []\n",
    "\n",
    "for i in range(n) :\n",
    "    nums.append(list(map(int, input())))\n",
    "\n",
    "def bfs(x, y) :\n",
    "    queue = deque()\n",
    "    count = 0\n",
    "    nums[x][y] = 0\n",
    "    queue.append((x, y))\n",
    "    count += 1\n",
    "    while queue :\n",
    "        x, y = queue.popleft()\n",
    "        for i in range(4) :\n",
    "            mx = x + dx[i]\n",
    "            my = y + dy[i]\n",
    "\n",
    "            if mx < 0 or mx >=n or my < 0 or my >= n :\n",
    "                continue\n",
    "            if nums[mx][my] == 1 :\n",
    "                nums[mx][my] = 0\n",
    "                count += 1\n",
    "                queue.append((mx, my))\n",
    "    return count\n",
    "\n",
    "for i in range(n) :\n",
    "    for j in range(n) :\n",
    "        if nums[i][j] == 1 :\n",
    "            number += 1\n",
    "            counts.append(bfs(i, j))\n",
    "\n",
    "counts.sort()\n",
    "print(number)\n",
    "for i in counts :\n",
    "    print(i)"
   ]
  }
 ],
 "metadata": {
  "kernelspec": {
   "display_name": "base",
   "language": "python",
   "name": "python3"
  },
  "language_info": {
   "codemirror_mode": {
    "name": "ipython",
    "version": 3
   },
   "file_extension": ".py",
   "mimetype": "text/x-python",
   "name": "python",
   "nbconvert_exporter": "python",
   "pygments_lexer": "ipython3",
   "version": "3.9.13"
  },
  "orig_nbformat": 4
 },
 "nbformat": 4,
 "nbformat_minor": 2
}
